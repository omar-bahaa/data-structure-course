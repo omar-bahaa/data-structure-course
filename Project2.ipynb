{
  "cells": [
    {
      "cell_type": "markdown",
      "metadata": {
        "id": "9cPbqhGqxM5l"
      },
      "source": [
        "# Social Network\n",
        "Design a simplified social network that relies heavily on using different data structures. An idea adapted from [LeetCode's Design Twitter Problem](https://leetcode.com/problems/design-twitter/). The design of the system is leaved to the implementer's choice whether he adopts an OO (object oriented) style or the usual procedural one. However, following **the OO style involves bonus marks**!!\n",
        "\n",
        "\n",
        "\n",
        "## Group Members:\n",
        "• Omar Bahaa 120180027\n",
        "\n",
        "• Abdelrahman Nawar 120180025\n",
        "\n",
        "• Abdelrahman Khaled 120180041\n",
        "\n",
        "• Martin Ehab 120180004\n",
        "\n",
        "• Mohamed Hatem 120170012"
      ]
    },
    {
      "cell_type": "markdown",
      "metadata": {
        "id": "0ROAOzp2sczy"
      },
      "source": [
        "### Initialization"
      ]
    },
    {
      "cell_type": "code",
      "execution_count": null,
      "metadata": {
        "id": "rYdqTCWPS5N6"
      },
      "outputs": [],
      "source": [
        "import networkx as nx\n",
        "import collections\n",
        "import random\n",
        "import uuid \n",
        "from time import ctime"
      ]
    },
    {
      "cell_type": "markdown",
      "metadata": {
        "id": "dFJxnHMxs7mI"
      },
      "source": [
        "### Project Template\n",
        "You may modify it (by applying some design pattern/s, for example) but maintain the same functionality."
      ]
    },
    {
      "cell_type": "code",
      "execution_count": null,
      "metadata": {
        "id": "rVzp8NpAl6j3"
      },
      "outputs": [],
      "source": [
        "class User:\n",
        "    def __init__(self, Name: str) -> None:\n",
        "        \"\"\"\n",
        "        :param Name: Given name of the user\n",
        "        \"\"\"\n",
        "        self.ID = SocialNetwork.generateID()\n",
        "        SocialNetwork.IDs.append(self.ID)\n",
        "        self.name = Name\n",
        "        self.deque_of_tweets = collections.deque(maxlen=5)\n",
        "        self.deque_of_activities = collections.deque(maxlen=5)\n",
        "        SocialNetwork.users.add_node(self)\n",
        "\n",
        "    def __repr__(self): # Omar Bahaa\n",
        "        \"\"\"\n",
        "        :return: template representation for the object\n",
        "        \"\"\"\n",
        "        name = \"Name: \" + str(self.name)\n",
        "        user_id = \"User ID: \" + str(self.ID)\n",
        "        return name + '\\n' + user_id\n",
        "\n",
        "    # ----------------------------------------------------------------- #\n",
        "    def follow(self, followee) -> None: # Abdelrahman Sherbiny\n",
        "        \"\"\"\n",
        "      Follower follows a followee.\n",
        "      If the operation is invalid, it should be a no-op.\n",
        "      \"\"\"\n",
        "        if (followee, self) not in SocialNetwork.users.edges:\n",
        "            SocialNetwork.users.add_edge(followee, self)\n",
        "            followee.deque_of_activities.appendleft(f\"{self.name} is now following you\")\n",
        "        else:\n",
        "            pass\n",
        "\n",
        "    # ----------------------------------------------------------------- #\n",
        "    def unfollow(self, followee) -> None: # Abdelrahman Sherbiny\n",
        "        \"\"\"\n",
        "      Follower unfollows a followee.\n",
        "      If the operation is invalid, it should be a no-op.\n",
        "      \"\"\"\n",
        "        if (followee, self) in SocialNetwork.users.edges:\n",
        "            SocialNetwork.users.remove_edge(followee, self)\n",
        "        else:\n",
        "            pass\n",
        "\n",
        "    # ----------------------------------------------------------------- #\n",
        "    def react(self, postId: str) -> None: # Abdelrahman Nawar\n",
        "        \"\"\"\n",
        "      User reacts to a post at a certain time.\n",
        "      If react() is called twice, the user un-reacts to the post.\n",
        "      \"\"\"\n",
        "        list_of_reacts = SocialNetwork.tweets[postId][1:]\n",
        "        tweet = SocialNetwork.tweets[postId][0]\n",
        "        if self in list_of_reacts:\n",
        "            list_of_reacts.remove(self)\n",
        "        else:\n",
        "            list_of_reacts.append(self)\n",
        "            author = tweet.author\n",
        "            author.deque_of_activities.appendleft(f\"{self.name} reacted to your tweet.\")\n",
        "        SocialNetwork.tweets[postId] = [tweet] + list_of_reacts\n",
        "\n",
        "    # ----------------------------------------------------------------- #\n",
        "    def post(self, postBody): # Martin Ehab\n",
        "        \"\"\"\n",
        "      User composes a new post with string body at a certain time.\n",
        "      \"\"\"\n",
        "        tweet = Tweet(self, postBody)\n",
        "        self.deque_of_tweets.appendleft(tweet)\n",
        "        list_of_followers = self.news_to(self, [], 1)\n",
        "        if list_of_followers:\n",
        "            for user in set(list_of_followers):  # to apply for unique items only\n",
        "                user.deque_of_activities.appendleft(f\"{self.name} shared a tweet.\")\n",
        "                user.deque_of_tweets.appendleft(tweet)\n",
        "        return tweet.ID\n",
        "\n",
        "    # --- BONUS ------------------------------------------------------- #\n",
        "    def share(self, postBody, users): # Abdelrahman Nawar\n",
        "        \"\"\"\n",
        "        User shares a post to a group of users.\n",
        "        Disallow sharing a post twice with a user where this post\n",
        "        has been already shared with.\n",
        "        \"\"\"\n",
        "        tweet = Tweet(self, postBody)\n",
        "        self.deque_of_tweets.appendleft(tweet)\n",
        "        list_of_followers = users\n",
        "        for user in list_of_followers:\n",
        "            user.deque_of_activities.appendleft(f\"{self.name} shared a tweet with you.\")\n",
        "            user.deque_of_tweets.appendleft(tweet)\n",
        "        return tweet.ID\n",
        "\n",
        "    @staticmethod\n",
        "    def news_to(node, list_of_users, count) -> list: # Abdelrahman Nawar\n",
        "        \"\"\"\n",
        "        Helper function used to get follower users up to third degree to the input user (node)\n",
        "        :param node: current user that we want to get their followers up to third degree\n",
        "        :param list_of_users: list of followers up to third degree\n",
        "        :param count: to keep track of the degrees to stop when we reach the third degree\n",
        "        :return: list of Users\n",
        "        \"\"\"\n",
        "        if count > 3:\n",
        "            return list_of_users\n",
        "        for v in SocialNetwork.users.neighbors(node):\n",
        "            list_of_users.append(v)\n",
        "            User.news_to(v, list_of_users, count + 1)\n",
        "        return list_of_users"
      ]
    },
    {
      "cell_type": "code",
      "execution_count": null,
      "metadata": {
        "id": "FV6x0ZlbmE2e"
      },
      "outputs": [],
      "source": [
        "class Tweet: # Omar Bahaa\n",
        "    def __init__(self, User: User, postBody: str) -> None:\n",
        "        \"\"\"\n",
        "        :param User: Author of the tweet\n",
        "        :param postBody: Content of the tweet\n",
        "        \"\"\"\n",
        "        self.ID = str(User.ID) + '-' + SocialNetwork.generateID()\n",
        "        SocialNetwork.IDs.append(self.ID)\n",
        "        self.postBody = postBody\n",
        "        self.timestamp = ctime()\n",
        "        self.author = User\n",
        "        SocialNetwork.tweets[self.ID] = [self]\n",
        "\n",
        "    def __repr__(self):\n",
        "        \"\"\"\n",
        "        :return: template for how a Tweet object should be represented\n",
        "        \"\"\"\n",
        "        breaker = \"-\" * 150\n",
        "        author = \"Author: \" + str(self.author.name)\n",
        "        at_time = \"Tweet time: \" + str(self.timestamp)\n",
        "        body = \"Tweet:\\n\\n\" + self.postBody\n",
        "        ID = \"Tweet ID: \" + self.ID\n",
        "        return breaker + '\\n' + author + '\\n' + at_time + '\\n' + ID + '\\n' + body + '\\n' + breaker"
      ]
    },
    {
      "cell_type": "code",
      "execution_count": null,
      "metadata": {
        "id": "HCiYo-vtcR-F"
      },
      "outputs": [],
      "source": [
        "class SocialNetwork:\n",
        "    users = nx.DiGraph()\n",
        "    tweets = {}\n",
        "    IDs = []\n",
        "\n",
        "    def __new__(cls, *args, **kwargs): # Omar Bahaa\n",
        "        \"\"\"\n",
        "        Applying of Singleton design pattern to avoid the creation of more than one instance\n",
        "        \"\"\"\n",
        "        if not hasattr(cls, 'instance'):\n",
        "            cls.instance = super(SocialNetwork, cls).__new__(cls)\n",
        "        return cls.instance\n",
        "\n",
        "    @staticmethod\n",
        "    def generateID() -> str: # Omar Bahaa\n",
        "        \"\"\"\n",
        "        :return: unique ID to be used by User and Tweet classes\n",
        "        \"\"\"\n",
        "        ID = str(uuid.uuid4()).replace(\"-\", \"\")\n",
        "        if ID in SocialNetwork.IDs:\n",
        "            ID = SocialNetwork.generateID()\n",
        "        return ID\n",
        "\n",
        "    # ----------------------------------------------------------------- #\n",
        "    def getNewsFeed(self, user: User): # Mohamed Hatem\n",
        "        \"\"\"\n",
        "        Retrieve the 5 most recent posts in the user's news feed.\n",
        "        Each item in the news feed must be posted by\n",
        "        the user himself, user's followees (1st degree relation)\n",
        "        or followees of followees up to 3rd degree. Also, (if implemented)\n",
        "        include shared posts with a user in his/her news feed.\n",
        "        Posts must be ordered from most recent to least recent.\n",
        "        \"\"\"\n",
        "        print(\"*\"*50 + f\"{user.name}'s feed list\" + \"*\"*50)\n",
        "        if user.deque_of_tweets:\n",
        "          for i in user.deque_of_tweets:\n",
        "            print(i)\n",
        "\n",
        "    # --- BONUS ------------------------------------------------------- #\n",
        "    def getNotifications(self, user: User): # Mohamed Hatem\n",
        "        \"\"\"\n",
        "        Retrieve the 5 most recent user's notifications.\n",
        "        When user A reacts to post of user B or shares a post\n",
        "        with user B, this accounts for notification for user B.\n",
        "        Notifications must be ordered from most recent to least recent.\n",
        "        \"\"\"\n",
        "        print(\"*\"*50 + f\"{user.name}'s notifications list\" + \"*\"*50)\n",
        "        if user.deque_of_activities:\n",
        "          for i in user.deque_of_activities:\n",
        "            print(i,'\\n')\n",
        "\n",
        "    # --- BONUS ------------------------------------------------------- #\n",
        "    def search(self, userName: str) -> list or str: # Abdelrahman Nawar\n",
        "        \"\"\"\n",
        "        Provided certain name, search for the matching users names.\n",
        "        \"\"\"\n",
        "        possibilities = userName.split(\" \")\n",
        "        for i in range(len(possibilities)):\n",
        "            possibilities.append(possibilities[i][:(len(possibilities[i]) // 2) + 1])\n",
        "        'possibilities contains the given userName (first and last) and the first half of each name'\n",
        "        results = []\n",
        "        for user in self.users.nodes:\n",
        "            for possibility in possibilities:\n",
        "                if possibility.lower() in user.name.lower():  # to make it case insensitive\n",
        "                    results.append(user)\n",
        "                    break  # to avoid repetitions\n",
        "        if results:\n",
        "            return results\n",
        "        return \"No results found\""
      ]
    },
    {
      "cell_type": "markdown",
      "metadata": {
        "id": "BfXoNzGFyMT7"
      },
      "source": [
        "# Testing"
      ]
    },
    {
      "cell_type": "code",
      "execution_count": null,
      "metadata": {
        "colab": {
          "base_uri": "https://localhost:8080/"
        },
        "id": "yOc5BGnovgIS",
        "outputId": "589cf6e7-9541-4a5a-abe4-ee5f6aeffec9"
      },
      "outputs": [
        {
          "name": "stdout",
          "output_type": "stream",
          "text": [
            "**************************************************user5's feed list**************************************************\n",
            "------------------------------------------------------------------------------------------------------------------------------------------------------\n",
            "Author: user1\n",
            "Tweet time: Sun Feb 14 10:57:11 2021\n",
            "Tweet ID: 799b86d4b9e3444c9c073eba118b6362-5f5240c3a32d4875a59618315915769f\n",
            "Tweet:\n",
            "\n",
            "THIS IS A DEMO \n",
            "------------------------------------------------------------------------------------------------------------------------------------------------------\n",
            "\n",
            "\n",
            "**************************************************user4's feed list**************************************************\n",
            "------------------------------------------------------------------------------------------------------------------------------------------------------\n",
            "Author: user1\n",
            "Tweet time: Sun Feb 14 10:57:11 2021\n",
            "Tweet ID: 799b86d4b9e3444c9c073eba118b6362-5f5240c3a32d4875a59618315915769f\n",
            "Tweet:\n",
            "\n",
            "THIS IS A DEMO \n",
            "------------------------------------------------------------------------------------------------------------------------------------------------------\n",
            "\n",
            "\n",
            "**************************************************user1's notifications list**************************************************\n",
            "user3 reacted to your tweet. \n",
            "\n",
            "user5 is now following you \n",
            "\n"
          ]
        }
      ],
      "source": [
        "SN = SocialNetwork()\n",
        "user1 = User(\"user1\")\n",
        "user2 = User(\"user2\")\n",
        "user3 = User(\"user3\")\n",
        "user4 = User(\"user4\")\n",
        "user5 = User(\"user5\")\n",
        "user5.follow(user1)\n",
        "user4.follow(user5)\n",
        "post1 = user1.post(\"THIS IS A DEMO \")\n",
        "SN.getNewsFeed(user5)\n",
        "print(\"\\n\")\n",
        "SN.getNewsFeed(user4)\n",
        "user3.react(post1)\n",
        "print(\"\\n\")\n",
        "SN.getNotifications(user1)"
      ]
    }
  ],
  "metadata": {
    "colab": {
      "collapsed_sections": [],
      "name": "SocialNetwork.ipynb",
      "provenance": []
    },
    "kernelspec": {
      "display_name": "Python 3.10.6 64-bit",
      "language": "python",
      "name": "python3"
    },
    "language_info": {
      "name": "python",
      "version": "3.10.6"
    },
    "vscode": {
      "interpreter": {
        "hash": "e7370f93d1d0cde622a1f8e1c04877d8463912d04d973331ad4851f04de6915a"
      }
    }
  },
  "nbformat": 4,
  "nbformat_minor": 0
}
